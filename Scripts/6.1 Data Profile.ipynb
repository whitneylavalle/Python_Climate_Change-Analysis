{
 "cells": [
  {
   "cell_type": "markdown",
   "id": "66c4c234",
   "metadata": {},
   "source": [
    "# 01. import libraries and df"
   ]
  },
  {
   "cell_type": "code",
   "execution_count": 1,
   "id": "81202b61",
   "metadata": {},
   "outputs": [],
   "source": [
    "import pandas as pd\n",
    "import numpy as np\n",
    "import os"
   ]
  },
  {
   "cell_type": "code",
   "execution_count": 2,
   "id": "a02dfcc8",
   "metadata": {},
   "outputs": [],
   "source": [
    "path=r'C:\\Users\\paperspace\\Desktop\\01 Project Folders\\01-2022 Climate_Change_Analysis'"
   ]
  },
  {
   "cell_type": "code",
   "execution_count": 3,
   "id": "5ccf2ceb",
   "metadata": {},
   "outputs": [],
   "source": [
    "df=pd.read_csv(os.path.join(path, 'Percentage of Energy Consumption by Country.csv'), index_col=False)"
   ]
  },
  {
   "cell_type": "markdown",
   "id": "fcb08fd3",
   "metadata": {},
   "source": [
    "# 02. data quality"
   ]
  },
  {
   "cell_type": "code",
   "execution_count": 4,
   "id": "beb0286e",
   "metadata": {},
   "outputs": [
    {
     "data": {
      "text/html": [
       "<div>\n",
       "<style scoped>\n",
       "    .dataframe tbody tr th:only-of-type {\n",
       "        vertical-align: middle;\n",
       "    }\n",
       "\n",
       "    .dataframe tbody tr th {\n",
       "        vertical-align: top;\n",
       "    }\n",
       "\n",
       "    .dataframe thead th {\n",
       "        text-align: right;\n",
       "    }\n",
       "</style>\n",
       "<table border=\"1\" class=\"dataframe\">\n",
       "  <thead>\n",
       "    <tr style=\"text-align: right;\">\n",
       "      <th></th>\n",
       "      <th>Year</th>\n",
       "      <th>Coal Consumption - EJ</th>\n",
       "      <th>Gas Consumption - EJ</th>\n",
       "      <th>Geo Biomass Other - TWh</th>\n",
       "      <th>Hydro Generation - TWh</th>\n",
       "      <th>Nuclear Generation - TWh</th>\n",
       "      <th>Solar Generation - TWh</th>\n",
       "      <th>Wind Generation -TWh</th>\n",
       "      <th>Oil Consumption - EJ</th>\n",
       "    </tr>\n",
       "  </thead>\n",
       "  <tbody>\n",
       "    <tr>\n",
       "      <th>count</th>\n",
       "      <td>5190.000000</td>\n",
       "      <td>5170.000000</td>\n",
       "      <td>5170.000000</td>\n",
       "      <td>5115.000000</td>\n",
       "      <td>5170.000000</td>\n",
       "      <td>5170.000000</td>\n",
       "      <td>5170.000000</td>\n",
       "      <td>5170.000000</td>\n",
       "      <td>5184.000000</td>\n",
       "    </tr>\n",
       "    <tr>\n",
       "      <th>mean</th>\n",
       "      <td>1992.823699</td>\n",
       "      <td>3.220641</td>\n",
       "      <td>2.396150</td>\n",
       "      <td>6.035605</td>\n",
       "      <td>75.479436</td>\n",
       "      <td>54.016024</td>\n",
       "      <td>1.707715</td>\n",
       "      <td>5.551028</td>\n",
       "      <td>4.456855</td>\n",
       "    </tr>\n",
       "    <tr>\n",
       "      <th>std</th>\n",
       "      <td>15.747169</td>\n",
       "      <td>13.681293</td>\n",
       "      <td>9.383618</td>\n",
       "      <td>30.659946</td>\n",
       "      <td>290.483522</td>\n",
       "      <td>241.244327</td>\n",
       "      <td>19.476769</td>\n",
       "      <td>47.841356</td>\n",
       "      <td>16.324680</td>\n",
       "    </tr>\n",
       "    <tr>\n",
       "      <th>min</th>\n",
       "      <td>1965.000000</td>\n",
       "      <td>0.000000</td>\n",
       "      <td>0.000000</td>\n",
       "      <td>0.000000</td>\n",
       "      <td>0.000000</td>\n",
       "      <td>0.000000</td>\n",
       "      <td>0.000000</td>\n",
       "      <td>0.000000</td>\n",
       "      <td>0.000000</td>\n",
       "    </tr>\n",
       "    <tr>\n",
       "      <th>25%</th>\n",
       "      <td>1979.000000</td>\n",
       "      <td>0.008535</td>\n",
       "      <td>0.028308</td>\n",
       "      <td>0.000000</td>\n",
       "      <td>0.826151</td>\n",
       "      <td>0.000000</td>\n",
       "      <td>0.000000</td>\n",
       "      <td>0.000000</td>\n",
       "      <td>0.243499</td>\n",
       "    </tr>\n",
       "    <tr>\n",
       "      <th>50%</th>\n",
       "      <td>1993.000000</td>\n",
       "      <td>0.114435</td>\n",
       "      <td>0.186077</td>\n",
       "      <td>0.051000</td>\n",
       "      <td>6.179677</td>\n",
       "      <td>0.000000</td>\n",
       "      <td>0.000000</td>\n",
       "      <td>0.000000</td>\n",
       "      <td>0.555215</td>\n",
       "    </tr>\n",
       "    <tr>\n",
       "      <th>75%</th>\n",
       "      <td>2006.000000</td>\n",
       "      <td>0.720752</td>\n",
       "      <td>0.933519</td>\n",
       "      <td>1.375500</td>\n",
       "      <td>30.665025</td>\n",
       "      <td>8.208090</td>\n",
       "      <td>0.003742</td>\n",
       "      <td>0.040817</td>\n",
       "      <td>1.844076</td>\n",
       "    </tr>\n",
       "    <tr>\n",
       "      <th>max</th>\n",
       "      <td>2019.000000</td>\n",
       "      <td>161.976352</td>\n",
       "      <td>141.452770</td>\n",
       "      <td>651.811211</td>\n",
       "      <td>4222.214992</td>\n",
       "      <td>2803.366447</td>\n",
       "      <td>724.086506</td>\n",
       "      <td>1429.619982</td>\n",
       "      <td>193.031574</td>\n",
       "    </tr>\n",
       "  </tbody>\n",
       "</table>\n",
       "</div>"
      ],
      "text/plain": [
       "              Year  Coal Consumption - EJ  Gas Consumption - EJ  \\\n",
       "count  5190.000000            5170.000000           5170.000000   \n",
       "mean   1992.823699               3.220641              2.396150   \n",
       "std      15.747169              13.681293              9.383618   \n",
       "min    1965.000000               0.000000              0.000000   \n",
       "25%    1979.000000               0.008535              0.028308   \n",
       "50%    1993.000000               0.114435              0.186077   \n",
       "75%    2006.000000               0.720752              0.933519   \n",
       "max    2019.000000             161.976352            141.452770   \n",
       "\n",
       "       Geo Biomass Other - TWh  Hydro Generation - TWh  \\\n",
       "count              5115.000000             5170.000000   \n",
       "mean                  6.035605               75.479436   \n",
       "std                  30.659946              290.483522   \n",
       "min                   0.000000                0.000000   \n",
       "25%                   0.000000                0.826151   \n",
       "50%                   0.051000                6.179677   \n",
       "75%                   1.375500               30.665025   \n",
       "max                 651.811211             4222.214992   \n",
       "\n",
       "       Nuclear Generation - TWh  Solar Generation - TWh  Wind Generation -TWh  \\\n",
       "count               5170.000000             5170.000000           5170.000000   \n",
       "mean                  54.016024                1.707715              5.551028   \n",
       "std                  241.244327               19.476769             47.841356   \n",
       "min                    0.000000                0.000000              0.000000   \n",
       "25%                    0.000000                0.000000              0.000000   \n",
       "50%                    0.000000                0.000000              0.000000   \n",
       "75%                    8.208090                0.003742              0.040817   \n",
       "max                 2803.366447              724.086506           1429.619982   \n",
       "\n",
       "       Oil Consumption - EJ  \n",
       "count           5184.000000  \n",
       "mean               4.456855  \n",
       "std               16.324680  \n",
       "min                0.000000  \n",
       "25%                0.243499  \n",
       "50%                0.555215  \n",
       "75%                1.844076  \n",
       "max              193.031574  "
      ]
     },
     "execution_count": 4,
     "metadata": {},
     "output_type": "execute_result"
    }
   ],
   "source": [
    "df.describe()"
   ]
  },
  {
   "cell_type": "code",
   "execution_count": 5,
   "id": "f4686c3c",
   "metadata": {},
   "outputs": [
    {
     "name": "stderr",
     "output_type": "stream",
     "text": [
      "C:\\Users\\PAPERS~1\\AppData\\Local\\Temp\\1/ipykernel_10500/509066054.py:3: FutureWarning: In a future version of pandas all arguments of DataFrame.drop except for the argument 'labels' will be keyword-only\n",
      "  df=df.drop('Code', 1)\n"
     ]
    }
   ],
   "source": [
    "#Drop code column because not every country/entry has a code\n",
    "\n",
    "df=df.drop('Code', 1)"
   ]
  },
  {
   "cell_type": "code",
   "execution_count": 6,
   "id": "92268705",
   "metadata": {},
   "outputs": [
    {
     "data": {
      "text/html": [
       "<div>\n",
       "<style scoped>\n",
       "    .dataframe tbody tr th:only-of-type {\n",
       "        vertical-align: middle;\n",
       "    }\n",
       "\n",
       "    .dataframe tbody tr th {\n",
       "        vertical-align: top;\n",
       "    }\n",
       "\n",
       "    .dataframe thead th {\n",
       "        text-align: right;\n",
       "    }\n",
       "</style>\n",
       "<table border=\"1\" class=\"dataframe\">\n",
       "  <thead>\n",
       "    <tr style=\"text-align: right;\">\n",
       "      <th></th>\n",
       "      <th>Entity</th>\n",
       "      <th>Year</th>\n",
       "      <th>Coal Consumption - EJ</th>\n",
       "      <th>Gas Consumption - EJ</th>\n",
       "      <th>Geo Biomass Other - TWh</th>\n",
       "      <th>Hydro Generation - TWh</th>\n",
       "      <th>Nuclear Generation - TWh</th>\n",
       "      <th>Solar Generation - TWh</th>\n",
       "      <th>Wind Generation -TWh</th>\n",
       "      <th>Oil Consumption - EJ</th>\n",
       "    </tr>\n",
       "  </thead>\n",
       "  <tbody>\n",
       "    <tr>\n",
       "      <th>0</th>\n",
       "      <td>Africa</td>\n",
       "      <td>1965</td>\n",
       "      <td>1.164586</td>\n",
       "      <td>0.034358</td>\n",
       "      <td>0.0</td>\n",
       "      <td>13.905635</td>\n",
       "      <td>0.0</td>\n",
       "      <td>0.0</td>\n",
       "      <td>0.0</td>\n",
       "      <td>1.173241</td>\n",
       "    </tr>\n",
       "    <tr>\n",
       "      <th>1</th>\n",
       "      <td>Africa</td>\n",
       "      <td>1966</td>\n",
       "      <td>1.163240</td>\n",
       "      <td>0.038412</td>\n",
       "      <td>0.0</td>\n",
       "      <td>15.510004</td>\n",
       "      <td>0.0</td>\n",
       "      <td>0.0</td>\n",
       "      <td>0.0</td>\n",
       "      <td>1.284154</td>\n",
       "    </tr>\n",
       "    <tr>\n",
       "      <th>2</th>\n",
       "      <td>Africa</td>\n",
       "      <td>1967</td>\n",
       "      <td>1.189050</td>\n",
       "      <td>0.037964</td>\n",
       "      <td>0.0</td>\n",
       "      <td>16.190636</td>\n",
       "      <td>0.0</td>\n",
       "      <td>0.0</td>\n",
       "      <td>0.0</td>\n",
       "      <td>1.273799</td>\n",
       "    </tr>\n",
       "    <tr>\n",
       "      <th>3</th>\n",
       "      <td>Africa</td>\n",
       "      <td>1968</td>\n",
       "      <td>1.236646</td>\n",
       "      <td>0.038480</td>\n",
       "      <td>0.0</td>\n",
       "      <td>18.938341</td>\n",
       "      <td>0.0</td>\n",
       "      <td>0.0</td>\n",
       "      <td>0.0</td>\n",
       "      <td>1.344219</td>\n",
       "    </tr>\n",
       "    <tr>\n",
       "      <th>4</th>\n",
       "      <td>Africa</td>\n",
       "      <td>1969</td>\n",
       "      <td>1.247915</td>\n",
       "      <td>0.044971</td>\n",
       "      <td>0.0</td>\n",
       "      <td>22.100890</td>\n",
       "      <td>0.0</td>\n",
       "      <td>0.0</td>\n",
       "      <td>0.0</td>\n",
       "      <td>1.362729</td>\n",
       "    </tr>\n",
       "  </tbody>\n",
       "</table>\n",
       "</div>"
      ],
      "text/plain": [
       "   Entity  Year  Coal Consumption - EJ  Gas Consumption - EJ  \\\n",
       "0  Africa  1965               1.164586              0.034358   \n",
       "1  Africa  1966               1.163240              0.038412   \n",
       "2  Africa  1967               1.189050              0.037964   \n",
       "3  Africa  1968               1.236646              0.038480   \n",
       "4  Africa  1969               1.247915              0.044971   \n",
       "\n",
       "   Geo Biomass Other - TWh  Hydro Generation - TWh  Nuclear Generation - TWh  \\\n",
       "0                      0.0               13.905635                       0.0   \n",
       "1                      0.0               15.510004                       0.0   \n",
       "2                      0.0               16.190636                       0.0   \n",
       "3                      0.0               18.938341                       0.0   \n",
       "4                      0.0               22.100890                       0.0   \n",
       "\n",
       "   Solar Generation - TWh  Wind Generation -TWh  Oil Consumption - EJ  \n",
       "0                     0.0                   0.0              1.173241  \n",
       "1                     0.0                   0.0              1.284154  \n",
       "2                     0.0                   0.0              1.273799  \n",
       "3                     0.0                   0.0              1.344219  \n",
       "4                     0.0                   0.0              1.362729  "
      ]
     },
     "execution_count": 6,
     "metadata": {},
     "output_type": "execute_result"
    }
   ],
   "source": [
    "df.head()"
   ]
  },
  {
   "cell_type": "markdown",
   "id": "391fdc66",
   "metadata": {},
   "source": [
    "# 03. mixed-type data"
   ]
  },
  {
   "cell_type": "code",
   "execution_count": 10,
   "id": "163c57f3",
   "metadata": {},
   "outputs": [
    {
     "data": {
      "text/plain": [
       "Entity                       object\n",
       "Year                          int64\n",
       "Coal Consumption - EJ       float64\n",
       "Gas Consumption - EJ        float64\n",
       "Geo Biomass Other - TWh     float64\n",
       "Hydro Generation - TWh      float64\n",
       "Nuclear Generation - TWh    float64\n",
       "Solar Generation - TWh      float64\n",
       "Wind Generation -TWh        float64\n",
       "Oil Consumption - EJ        float64\n",
       "dtype: object"
      ]
     },
     "execution_count": 10,
     "metadata": {},
     "output_type": "execute_result"
    }
   ],
   "source": [
    "df.dtypes"
   ]
  },
  {
   "cell_type": "code",
   "execution_count": 11,
   "id": "a31edea0",
   "metadata": {},
   "outputs": [],
   "source": [
    "# Check for mixed types\n",
    "for col in df.columns.tolist():\n",
    "  weird = (df[[col]].applymap(type) != df[[col]].iloc[0].apply(type)).any(axis = 1)\n",
    "  if len (df[weird]) > 0:\n",
    "    print (col)"
   ]
  },
  {
   "cell_type": "code",
   "execution_count": 14,
   "id": "1b35e705",
   "metadata": {},
   "outputs": [],
   "source": [
    "# No mixed type data, so just changing the entity from object to string\n",
    "\n",
    "df['Entity'] = df['Entity'].astype('str')"
   ]
  },
  {
   "cell_type": "markdown",
   "id": "213052b4",
   "metadata": {},
   "source": [
    "# 04. missing values"
   ]
  },
  {
   "cell_type": "code",
   "execution_count": 16,
   "id": "ae7e90a5",
   "metadata": {},
   "outputs": [
    {
     "data": {
      "text/plain": [
       "Entity                       0\n",
       "Year                         0\n",
       "Coal Consumption - EJ       20\n",
       "Gas Consumption - EJ        20\n",
       "Geo Biomass Other - TWh     75\n",
       "Hydro Generation - TWh      20\n",
       "Nuclear Generation - TWh    20\n",
       "Solar Generation - TWh      20\n",
       "Wind Generation -TWh        20\n",
       "Oil Consumption - EJ         6\n",
       "dtype: int64"
      ]
     },
     "execution_count": 16,
     "metadata": {},
     "output_type": "execute_result"
    }
   ],
   "source": [
    "df.isnull().sum()"
   ]
  },
  {
   "cell_type": "code",
   "execution_count": 18,
   "id": "e9da4c7f",
   "metadata": {},
   "outputs": [],
   "source": [
    "# There are 20 null rows for entity, \"Other CIS\"\n",
    "# Deleting these rows as they do not add to the analysis"
   ]
  },
  {
   "cell_type": "code",
   "execution_count": 21,
   "id": "74b3d236",
   "metadata": {},
   "outputs": [],
   "source": [
    "#Creating df v2 without msising values\n",
    "df2 = df[df['Solar Generation - TWh'].isnull() == False]"
   ]
  },
  {
   "cell_type": "code",
   "execution_count": 22,
   "id": "228aa2ad",
   "metadata": {},
   "outputs": [
    {
     "data": {
      "text/plain": [
       "(5170, 10)"
      ]
     },
     "execution_count": 22,
     "metadata": {},
     "output_type": "execute_result"
    }
   ],
   "source": [
    "df2.shape"
   ]
  },
  {
   "cell_type": "code",
   "execution_count": 23,
   "id": "7b7da768",
   "metadata": {},
   "outputs": [
    {
     "data": {
      "text/plain": [
       "(5190, 10)"
      ]
     },
     "execution_count": 23,
     "metadata": {},
     "output_type": "execute_result"
    }
   ],
   "source": [
    "df.shape"
   ]
  },
  {
   "cell_type": "markdown",
   "id": "d9c289d6",
   "metadata": {},
   "source": [
    "# 05. duplicates"
   ]
  },
  {
   "cell_type": "code",
   "execution_count": 24,
   "id": "0dd270fb",
   "metadata": {},
   "outputs": [],
   "source": [
    "df_dups=df2[df2.duplicated()]"
   ]
  },
  {
   "cell_type": "code",
   "execution_count": 25,
   "id": "6ec258c5",
   "metadata": {},
   "outputs": [],
   "source": [
    "# No duplicate values"
   ]
  },
  {
   "cell_type": "markdown",
   "id": "10532314",
   "metadata": {},
   "source": [
    "# 06. exporting"
   ]
  },
  {
   "cell_type": "code",
   "execution_count": 26,
   "id": "6e34ef50",
   "metadata": {},
   "outputs": [],
   "source": [
    "df2.to_csv(os.path.join(path, 'df_clean.csv'))"
   ]
  }
 ],
 "metadata": {
  "kernelspec": {
   "display_name": "Python 3 (ipykernel)",
   "language": "python",
   "name": "python3"
  },
  "language_info": {
   "codemirror_mode": {
    "name": "ipython",
    "version": 3
   },
   "file_extension": ".py",
   "mimetype": "text/x-python",
   "name": "python",
   "nbconvert_exporter": "python",
   "pygments_lexer": "ipython3",
   "version": "3.9.7"
  }
 },
 "nbformat": 4,
 "nbformat_minor": 5
}
